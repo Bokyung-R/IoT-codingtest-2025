{
 "cells": [
  {
   "cell_type": "code",
   "execution_count": null,
   "id": "dc8df00d",
   "metadata": {},
   "outputs": [],
   "source": [
    "def solution(friends, gifts):\n",
    "    n = len(friends)\n",
    "    \n",
    "    answer = [0] * n\n",
    "    \n",
    "    gift_count = dict()\n",
    "    f_dict = dict()\n",
    "    for i in range(n):\n",
    "        gift_count[friends[i]] = 0\n",
    "        f_dict[friends[i]] = i\n",
    "        \n",
    "    total = [ [0 for _ in range(n)] for _ in range(n)]\n",
    "    \n",
    "    for gift in gifts:\n",
    "        a,b = gift.split()\n",
    "        gift_count[a] += 1\n",
    "        gift_count[b] -= 1\n",
    "        total[f_dict[a]][f_dict[b]] += 1\n",
    "        \n",
    "   \n",
    "    for a in range(n):\n",
    "        for b in range(a,n):\n",
    "            atob = total[a][b]\n",
    "            btoa = total[b][a]\n",
    "            if(atob > 0 or btoa >0): # 둘 다 주고받은 적이 있다면 \n",
    "                if(atob != btoa):       # 갯수가 다르다면\n",
    "                    if(atob > btoa):        # 더 많이 준 쪽이 다음달에 받음\n",
    "                        answer[a] += 1\n",
    "                    else:\n",
    "                        answer[b] += 1\n",
    "                else:                   # 동일하게 주고받았다면\n",
    "                    acnt = gift_count[friends[a]]\n",
    "                    bcnt = gift_count[friends[b]]\n",
    "                    if(acnt>bcnt):\n",
    "                        answer[a] +=1\n",
    "                    elif(acnt<bcnt):\n",
    "                        answer[b] +=1\n",
    "                    else:       # 동일하다면 안주고받음\n",
    "                        continue\n",
    "                    \n",
    "            elif(atob == 0 and btoa == 0):       # 받은 적이 없다면\n",
    "                acnt = gift_count[friends[a]]\n",
    "                bcnt = gift_count[friends[b]]\n",
    "                if(acnt>bcnt):\n",
    "                    answer[a] +=1\n",
    "                elif(acnt<bcnt):\n",
    "                    answer[b] +=1\n",
    "                else:       # 동일하다면 안주고받음\n",
    "                    continue\n",
    "                \n",
    "    max = 0\n",
    "    for i in range(n):\n",
    "        if(answer[i] > max):\n",
    "            max = answer[i]\n",
    "    \n",
    "    return max\n",
    "\n",
    "\n",
    "# 둘 다 받은 기록이 있다면, 많이 준 사람이 다음달에 선물을 받음\n",
    "# 주고받은 기록 X, 같다면, 선물 지수가 더 큰 사람이 작은 사람 한테 받음\n",
    "    # 선물 지수 : 이번달까지 자신이 준 선물 - 받은 선물 \n",
    "    # 선물 지수도 동일하다면 다음달에 선물 주고 받지않음\n",
    "    \n",
    "# 다음달에 선물을 가장 많이 받은 친구가 몇개를 받을까 궁금\n"
   ]
  },
  {
   "cell_type": "code",
   "execution_count": 2,
   "id": "25577aed",
   "metadata": {},
   "outputs": [],
   "source": [
    "f =[\"muzi\", \"ryan\", \"frodo\", \"neo\"]\n",
    "g =[\"muzi frodo\", \"muzi frodo\", \"ryan muzi\", \"ryan muzi\", \"ryan muzi\", \"frodo muzi\", \"frodo ryan\", \"neo muzi\"]"
   ]
  },
  {
   "cell_type": "code",
   "execution_count": 3,
   "id": "4682efe0",
   "metadata": {},
   "outputs": [
    {
     "data": {
      "text/plain": [
       "1"
      ]
     },
     "execution_count": 3,
     "metadata": {},
     "output_type": "execute_result"
    }
   ],
   "source": [
    "solution(f,g)"
   ]
  }
 ],
 "metadata": {
  "kernelspec": {
   "display_name": "3.11.9",
   "language": "python",
   "name": "python3"
  },
  "language_info": {
   "codemirror_mode": {
    "name": "ipython",
    "version": 3
   },
   "file_extension": ".py",
   "mimetype": "text/x-python",
   "name": "python",
   "nbconvert_exporter": "python",
   "pygments_lexer": "ipython3",
   "version": "3.11.9"
  }
 },
 "nbformat": 4,
 "nbformat_minor": 5
}

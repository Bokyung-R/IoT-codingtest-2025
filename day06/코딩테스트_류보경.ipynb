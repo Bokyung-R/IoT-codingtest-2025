{
 "cells": [
  {
   "cell_type": "markdown",
   "id": "fa7a592e",
   "metadata": {},
   "source": [
    "## 코딩테스트 문제 \n",
    "\n",
    "https://school.programmers.co.kr/learn/courses/30/lessons/154540"
   ]
  },
  {
   "cell_type": "code",
   "execution_count": 1,
   "id": "bb3b99de",
   "metadata": {},
   "outputs": [],
   "source": [
    "def solution(maps):\n",
    "    answer = []\n",
    "    row = len(maps)\n",
    "    col = len(maps[0])\n",
    "    \n",
    "    # 방문 여부 확인 / 안들렸으면 0, 들렸으면 1\n",
    "    visited = [[0] * col for _ in range(row)]   \n",
    "    \n",
    "    # 이동 방향 (왼,오,아래,위)\n",
    "    directions = [(-1,0), (1,0), (0,-1), (0,1)]         \n",
    "    \n",
    "    def bfs(x, y):\n",
    "        q =[]\n",
    "        q.append((x, y))\n",
    "        visited[x][y] = 1\n",
    "        total = int(maps[x][y])\n",
    "        \n",
    "        # 붙어있는 곳 계산\n",
    "        while q:\n",
    "            cur_x, cur_y = q.pop()\n",
    "            for dx, dy in directions:\n",
    "                next_x = cur_x + dx\n",
    "                next_y = cur_y + dy\n",
    "                if 0 <= next_x < row and 0 <= next_y < col:\n",
    "                    if (visited[next_x][next_y] == 0) and (maps[next_x][next_y] != 'X'):\n",
    "                        visited[next_x][next_y] = 1\n",
    "                        total += int(maps[next_x][next_y])\n",
    "                        q.append((next_x, next_y))\n",
    "        return total\n",
    "    \n",
    "    for i in range(row):\n",
    "        for j in range(col):\n",
    "            if (visited[i][j] == 0) and (maps[i][j] != 'X'):\n",
    "                val = bfs(i, j)\n",
    "                answer.append(val)\n",
    "    \n",
    "    if answer:\n",
    "        return sorted(answer)\n",
    "    else:\n",
    "        return [-1]\n",
    "\n"
   ]
  }
 ],
 "metadata": {
  "kernelspec": {
   "display_name": "3.11.9",
   "language": "python",
   "name": "python3"
  },
  "language_info": {
   "codemirror_mode": {
    "name": "ipython",
    "version": 3
   },
   "file_extension": ".py",
   "mimetype": "text/x-python",
   "name": "python",
   "nbconvert_exporter": "python",
   "pygments_lexer": "ipython3",
   "version": "3.11.9"
  }
 },
 "nbformat": 4,
 "nbformat_minor": 5
}

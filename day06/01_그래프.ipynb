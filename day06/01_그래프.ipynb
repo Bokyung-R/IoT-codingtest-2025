{
 "cells": [
  {
   "cell_type": "markdown",
   "id": "254e57bd",
   "metadata": {},
   "source": [
    "## 그래프\n",
    "\n",
    "### 기본구현\n",
    "\n",
    "#### 깊이 우선 탐색(DFS)\n",
    "\n",
    "<img src=\"../image/ct0011.png\" width=\"400\">\n",
    "\n"
   ]
  },
  {
   "cell_type": "code",
   "execution_count": null,
   "id": "e39e658c",
   "metadata": {},
   "outputs": [],
   "source": [
    "# 재귀호출으로 구현\n",
    "# 딕셔너리로 인접리스트 생성\n",
    "graph = {\n",
    "    1: [4, 5],\n",
    "    2: [3],\n",
    "    3: [],\n",
    "    4: [2, 3],\n",
    "    5: [1, 4]    # 책 1이 빠졌음. 실행결과는 동일.\n",
    "}\n",
    "\n",
    "# 방문여부 표시하는 배열\n",
    "visited = [False] * (len(graph) + 1)  # 배열 인덱스 0때문에 한개더 많이 배열 생성\n",
    "\n",
    "def dfs(curr_node):    \n",
    "    # 현재노드 방문\n",
    "    visited[curr_node] = True\n",
    "    print(curr_node, end=\" \") # 한줄로 나오도록\n",
    "\n",
    "    # 현재노드와 인접한 노드 순회\n",
    "    for adj_node in graph[curr_node]:\n",
    "        if not visited[adj_node]:\n",
    "            dfs(adj_node)   # 재귀호출 --> 스택을 사용. 재귀호출이 종료되면 자동생성된 메모리상의 스택에서 자동 팝\n"
   ]
  },
  {
   "cell_type": "code",
   "execution_count": 21,
   "id": "deeadf82",
   "metadata": {},
   "outputs": [
    {
     "name": "stdout",
     "output_type": "stream",
     "text": [
      "1 4 2 3 5 "
     ]
    }
   ],
   "source": [
    "result = dfs(1)"
   ]
  },
  {
   "cell_type": "markdown",
   "id": "e6820a07",
   "metadata": {},
   "source": [
    "- 자료구조 알고리즘 과목에서 인접행렬에 스택을 직접구현 : 재귀호출보다 소스코드가 길다 "
   ]
  },
  {
   "cell_type": "markdown",
   "id": "bbbae462",
   "metadata": {},
   "source": [
    "#### 너비 우선 탐색(BFS)"
   ]
  },
  {
   "cell_type": "code",
   "execution_count": 22,
   "id": "802b5a8e",
   "metadata": {},
   "outputs": [],
   "source": [
    "from collections import deque\n",
    "\n",
    "# 딕셔너리로 인접리스트 생성\n",
    "graph = {\n",
    "    1: [4, 5],\n",
    "    2: [3],\n",
    "    3: [],\n",
    "    4: [2, 3],\n",
    "    5: [1, 4],\n",
    "}\n",
    "\n",
    "def bfs(start_node):\n",
    "    visited = [False] * (len(graph) + 1)  # 배열 인덱스 0때문에 한개더 많이 배열 생성\n",
    "\n",
    "    # 시작노드 방문처리\n",
    "    queue = deque([start_node])\n",
    "    visited[start_node] = True  # 방문처리1\n",
    "\n",
    "    while queue: # 큐가 완전히 empty가 될때까지\n",
    "        # 가장먼저 푸시(deQueue)된 노드 방문\n",
    "        node = queue.popleft() \n",
    "        print(node, end=' ')\n",
    "\n",
    "        # 인접노드 순회\n",
    "        for adj_node in graph[node]:  # 방문한 노드의 인접노드를 반복\n",
    "            if not visited[adj_node]:\n",
    "                queue.append(adj_node)  # 새로 방문한 노드를 큐에 삽입\n",
    "                visited[adj_node] = True  # 방문처리2"
   ]
  },
  {
   "cell_type": "code",
   "execution_count": 24,
   "id": "040dd1f2",
   "metadata": {},
   "outputs": [
    {
     "name": "stdout",
     "output_type": "stream",
     "text": [
      "1 4 5 2 3 "
     ]
    }
   ],
   "source": [
    "bfs(1)"
   ]
  },
  {
   "cell_type": "markdown",
   "id": "e8b5fcc8",
   "metadata": {},
   "source": [
    "#### 모의 테스트\n",
    "##### 게임 맵 최단거리\n",
    "- https://school.programmers.co.kr/learn/courses/30/lessons/1844"
   ]
  },
  {
   "cell_type": "code",
   "execution_count": null,
   "id": "0f83145c",
   "metadata": {},
   "outputs": [],
   "source": [
    "# 코딩 테스트 시 큐를 구현하려면 deque를 사용할 것 (속도)\n",
    "from collections import deque\n",
    "\n",
    "def solution(maps):\n",
    "    answer = 0\n",
    "\n",
    "    # 이동할 수 있는 방향 정의 (본인이 원하는 방향으로 정하고 로직에서 인덱스만 잘 맞추면 됨)\n",
    "    move = [[-1,0],[0,-1],[0,1],[1,0]]\n",
    "\n",
    "    # 맵 크기 초기화\n",
    "    n = len(maps)   # 행\n",
    "    m = len(maps[0])    # 열\n",
    "\n",
    "    # 거리를 저장하는 2차원 배열\n",
    "    distance = [[-1] * m for _ in range(n)]\n",
    "\n",
    "    # BFS 이므로 큐를 생성\n",
    "    queue = deque([[0,0]])\n",
    "    distance[0][0] = 1\n",
    "\n",
    "    while queue:    # 큐에 데이터가 남아있는 동안\n",
    "        cur_loc = queue.popleft()\n",
    "\n",
    "        for direct in move: #방향이 네개니까 방향 따라서 네번 반복\n",
    "            row, column = cur_loc[0] + direct[0], cur_loc[1] + direct[1]\n",
    "\n",
    "            # 이동한 위치가 범위를 벗어나는지 확인\n",
    "            if row < 0 or row >= n or column < 0 or column >= m:\n",
    "                continue    # 아무 처리하지않고 다음 반복문 처리\n",
    "\n",
    "            # 이동한 위치에 벽이 있으면 \n",
    "            if maps[row][column] == 0:\n",
    "                continue\n",
    "\n",
    "            # 이동한 위치가 처음 방문한 경우, deque에 추가하고 거리 생신\n",
    "            if distance[row][column] == -1:\n",
    "                distance[row][column] == 1\n",
    "                queue.append([row,column])\n",
    "                distance[row][column] = distance[cur_loc[0]][cur_loc[1]] + 1\n",
    "\n",
    "\n",
    "    return distance[n-1][m-1]"
   ]
  },
  {
   "cell_type": "code",
   "execution_count": 34,
   "id": "8afb9023",
   "metadata": {},
   "outputs": [
    {
     "data": {
      "text/plain": [
       "11"
      ]
     },
     "execution_count": 34,
     "metadata": {},
     "output_type": "execute_result"
    }
   ],
   "source": [
    "# 기대값 11\n",
    "solution([[1,0,1,1,1],[1,0,1,0,1],[1,0,1,1,1],[1,1,1,0,1],[0,0,0,0,1]])"
   ]
  },
  {
   "cell_type": "code",
   "execution_count": 35,
   "id": "d0a8f082",
   "metadata": {},
   "outputs": [
    {
     "data": {
      "text/plain": [
       "-1"
      ]
     },
     "execution_count": 35,
     "metadata": {},
     "output_type": "execute_result"
    }
   ],
   "source": [
    "# 기대값 -1\n",
    "solution([[1,0,1,1,1],[1,0,1,0,1],[1,0,1,1,1],[1,1,1,0,0],[0,0,0,0,1]])"
   ]
  },
  {
   "cell_type": "markdown",
   "id": "ce7f6df6",
   "metadata": {},
   "source": [
    "- BFS는 추가적인 다른 함수를 만들 필요가 없음\n",
    "- DFS는 재귀호출이 대부분이기때문에 "
   ]
  },
  {
   "cell_type": "code",
   "execution_count": null,
   "id": "324ea55a",
   "metadata": {},
   "outputs": [],
   "source": []
  }
 ],
 "metadata": {
  "kernelspec": {
   "display_name": "3.11.9",
   "language": "python",
   "name": "python3"
  },
  "language_info": {
   "codemirror_mode": {
    "name": "ipython",
    "version": 3
   },
   "file_extension": ".py",
   "mimetype": "text/x-python",
   "name": "python",
   "nbconvert_exporter": "python",
   "pygments_lexer": "ipython3",
   "version": "3.11.9"
  }
 },
 "nbformat": 4,
 "nbformat_minor": 5
}
